{
 "cells": [
  {
   "cell_type": "markdown",
   "id": "92c3acaa",
   "metadata": {
    "papermill": {
     "duration": 0.008347,
     "end_time": "2025-01-08T08:32:39.646538",
     "exception": false,
     "start_time": "2025-01-08T08:32:39.638191",
     "status": "completed"
    },
    "tags": []
   },
   "source": [
    "Any investor does not want to take risk and want to make max profit possible. Speaking of which, we have to say there is a tradeoff between those quantities. Research says one should not see risk and return as separate things. More risk you carry, more profit you should expect and much more you can make will be answers by Markowitz portfolio optimization (MPO).\n",
    "\n",
    "- Given the portfolio (MPO) assign weights of each security\n",
    "- it weights in a way that we get max profit with given amount of risk (everyone has different appetite for risk).\n",
    "\n",
    "We shall try to assign weights to securities (Tesla, Google, Meta, Microsoft) to optimize the return based on the given risk. All this will be done using Markowitz Portfolio Optimization, aka Modern Port. Theory, invented by Harry Markowitz. We shall do all this using two approaches,\n",
    "\n",
    "1. Monte Carlo simulation\n",
    "2. Finding out minimal -- Using SciPy "
   ]
  },
  {
   "cell_type": "code",
   "execution_count": 1,
   "id": "d18f6e40",
   "metadata": {
    "_cell_guid": "b1076dfc-b9ad-4769-8c92-a6c4dae69d19",
    "_uuid": "8f2839f25d086af736a60e9eeb907d3b93b6e0e5",
    "execution": {
     "iopub.execute_input": "2025-01-08T08:32:39.663059Z",
     "iopub.status.busy": "2025-01-08T08:32:39.662263Z",
     "iopub.status.idle": "2025-01-08T08:32:41.232936Z",
     "shell.execute_reply": "2025-01-08T08:32:41.231840Z"
    },
    "papermill": {
     "duration": 1.582052,
     "end_time": "2025-01-08T08:32:41.235645",
     "exception": false,
     "start_time": "2025-01-08T08:32:39.653593",
     "status": "completed"
    },
    "tags": []
   },
   "outputs": [],
   "source": [
    "# This Python 3 environment comes with many helpful analytics libraries installed\n",
    "# It is defined by the kaggle/python Docker image: https://github.com/kaggle/docker-python\n",
    "# For example, here's several helpful packages to load\n",
    "\n",
    "import numpy as np # linear algebra\n",
    "import pandas as pd # data processing, CSV file I/O (e.g. pd.read_csv)\n",
    "import matplotlib.pyplot as plt\n",
    "import plotly_express as px\n",
    "import pandas_datareader as web\n",
    "from datetime import datetime as dt, timedelta as td\n",
    "\n",
    "# plt.rc\\\\\\\n",
    "\n",
    "# Input data files are available in the read-only \"../input/\" directory\n",
    "# For example, running this (by clicking run or pressing Shift+Enter) will list all files under the input directory\n",
    "\n",
    "import os\n",
    "for dirname, _, filenames in os.walk('/kaggle/input'):\n",
    "    for filename in filenames:\n",
    "        print(os.path.join(dirname, filename))\n",
    "\n",
    "# You can write up to 20GB to the current directory (/kaggle/working/) that gets preserved as output when you create a version using \"Save & Run All\" \n",
    "# You can also write temporary files to /kaggle/temp/, but they won't be saved outside of the current session"
   ]
  },
  {
   "cell_type": "code",
   "execution_count": 2,
   "id": "6f4e05fb",
   "metadata": {
    "execution": {
     "iopub.execute_input": "2025-01-08T08:32:41.251677Z",
     "iopub.status.busy": "2025-01-08T08:32:41.251229Z",
     "iopub.status.idle": "2025-01-08T08:33:09.638132Z",
     "shell.execute_reply": "2025-01-08T08:33:09.636602Z"
    },
    "papermill": {
     "duration": 28.39813,
     "end_time": "2025-01-08T08:33:09.641179",
     "exception": false,
     "start_time": "2025-01-08T08:32:41.243049",
     "status": "completed"
    },
    "tags": []
   },
   "outputs": [
    {
     "name": "stdout",
     "output_type": "stream",
     "text": [
      "Collecting yfinance\r\n",
      "  Downloading yfinance-0.2.51-py2.py3-none-any.whl (104 kB)\r\n",
      "\u001b[2K     \u001b[90m━━━━━━━━━━━━━━━━━━━━━━━━━━━━━━━━━━━━━━━\u001b[0m \u001b[32m104.7/104.7 kB\u001b[0m \u001b[31m4.3 MB/s\u001b[0m eta \u001b[36m0:00:00\u001b[0m\r\n",
      "\u001b[?25hCollecting requests>=2.31\r\n",
      "  Downloading requests-2.31.0-py3-none-any.whl (62 kB)\r\n",
      "\u001b[2K     \u001b[90m━━━━━━━━━━━━━━━━━━━━━━━━━━━━━━━━━━━━━━━━\u001b[0m \u001b[32m62.6/62.6 kB\u001b[0m \u001b[31m5.7 MB/s\u001b[0m eta \u001b[36m0:00:00\u001b[0m\r\n",
      "\u001b[?25hRequirement already satisfied: frozendict>=2.3.4 in /opt/conda/lib/python3.7/site-packages (from yfinance) (2.3.4)\r\n",
      "Requirement already satisfied: platformdirs>=2.0.0 in /opt/conda/lib/python3.7/site-packages (from yfinance) (2.5.1)\r\n",
      "Requirement already satisfied: html5lib>=1.1 in /opt/conda/lib/python3.7/site-packages (from yfinance) (1.1)\r\n",
      "Collecting peewee>=3.16.2\r\n",
      "  Downloading peewee-3.17.8.tar.gz (948 kB)\r\n",
      "\u001b[2K     \u001b[90m━━━━━━━━━━━━━━━━━━━━━━━━━━━━━━━━━━━━━━\u001b[0m \u001b[32m948.2/948.2 kB\u001b[0m \u001b[31m25.5 MB/s\u001b[0m eta \u001b[36m0:00:00\u001b[0m\r\n",
      "\u001b[?25h  Installing build dependencies ... \u001b[?25l-\b \b\\\b \b|\b \b/\b \bdone\r\n",
      "\u001b[?25h  Getting requirements to build wheel ... \u001b[?25l-\b \bdone\r\n",
      "\u001b[?25h  Preparing metadata (pyproject.toml) ... \u001b[?25l-\b \bdone\r\n",
      "\u001b[?25hRequirement already satisfied: numpy>=1.16.5 in /opt/conda/lib/python3.7/site-packages (from yfinance) (1.21.6)\r\n",
      "Requirement already satisfied: pandas>=1.3.0 in /opt/conda/lib/python3.7/site-packages (from yfinance) (1.3.5)\r\n",
      "Collecting pytz>=2022.5\r\n",
      "  Downloading pytz-2024.2-py2.py3-none-any.whl (508 kB)\r\n",
      "\u001b[2K     \u001b[90m━━━━━━━━━━━━━━━━━━━━━━━━━━━━━━━━━━━━━━\u001b[0m \u001b[32m508.0/508.0 kB\u001b[0m \u001b[31m27.4 MB/s\u001b[0m eta \u001b[36m0:00:00\u001b[0m\r\n",
      "\u001b[?25hRequirement already satisfied: beautifulsoup4>=4.11.1 in /opt/conda/lib/python3.7/site-packages (from yfinance) (4.11.1)\r\n",
      "Collecting multitasking>=0.0.7\r\n",
      "  Downloading multitasking-0.0.11-py3-none-any.whl (8.5 kB)\r\n",
      "Requirement already satisfied: lxml>=4.9.1 in /opt/conda/lib/python3.7/site-packages (from yfinance) (4.9.1)\r\n",
      "Requirement already satisfied: soupsieve>1.2 in /opt/conda/lib/python3.7/site-packages (from beautifulsoup4>=4.11.1->yfinance) (2.3.1)\r\n",
      "Requirement already satisfied: six>=1.9 in /opt/conda/lib/python3.7/site-packages (from html5lib>=1.1->yfinance) (1.15.0)\r\n",
      "Requirement already satisfied: webencodings in /opt/conda/lib/python3.7/site-packages (from html5lib>=1.1->yfinance) (0.5.1)\r\n",
      "Requirement already satisfied: python-dateutil>=2.7.3 in /opt/conda/lib/python3.7/site-packages (from pandas>=1.3.0->yfinance) (2.8.2)\r\n",
      "Requirement already satisfied: idna<4,>=2.5 in /opt/conda/lib/python3.7/site-packages (from requests>=2.31->yfinance) (3.3)\r\n",
      "Requirement already satisfied: certifi>=2017.4.17 in /opt/conda/lib/python3.7/site-packages (from requests>=2.31->yfinance) (2022.9.24)\r\n",
      "Requirement already satisfied: charset-normalizer<4,>=2 in /opt/conda/lib/python3.7/site-packages (from requests>=2.31->yfinance) (2.1.0)\r\n",
      "Requirement already satisfied: urllib3<3,>=1.21.1 in /opt/conda/lib/python3.7/site-packages (from requests>=2.31->yfinance) (1.26.12)\r\n",
      "Building wheels for collected packages: peewee\r\n",
      "  Building wheel for peewee (pyproject.toml) ... \u001b[?25l-\b \b\\\b \bdone\r\n",
      "\u001b[?25h  Created wheel for peewee: filename=peewee-3.17.8-py3-none-any.whl size=138965 sha256=4fcabc08eb015e70dd3bce6c24f935b9617e13d11ae736564c9ebc337af9b238\r\n",
      "  Stored in directory: /root/.cache/pip/wheels/2d/8f/b5/28f0f41351420da5423424fc74e55219347e0bb0cbca09bb82\r\n",
      "Successfully built peewee\r\n",
      "Installing collected packages: pytz, peewee, multitasking, requests, yfinance\r\n",
      "  Attempting uninstall: pytz\r\n",
      "    Found existing installation: pytz 2022.1\r\n",
      "    Uninstalling pytz-2022.1:\r\n",
      "      Successfully uninstalled pytz-2022.1\r\n",
      "  Attempting uninstall: requests\r\n",
      "    Found existing installation: requests 2.28.1\r\n",
      "    Uninstalling requests-2.28.1:\r\n",
      "      Successfully uninstalled requests-2.28.1\r\n",
      "\u001b[31mERROR: pip's dependency resolver does not currently take into account all the packages that are installed. This behaviour is the source of the following dependency conflicts.\r\n",
      "beatrix-jupyterlab 3.1.7 requires google-cloud-bigquery-storage, which is not installed.\r\n",
      "spacy 3.3.1 requires typing-extensions<4.2.0,>=3.7.4; python_version < \"3.8\", but you have typing-extensions 4.4.0 which is incompatible.\r\n",
      "pandas-profiling 3.1.0 requires markupsafe~=2.0.1, but you have markupsafe 2.1.1 which is incompatible.\r\n",
      "google-api-core 1.33.2 requires protobuf!=3.20.0,!=3.20.1,!=4.21.0,!=4.21.1,!=4.21.2,!=4.21.3,!=4.21.4,!=4.21.5,<4.0.0dev,>=3.19.5, but you have protobuf 3.19.4 which is incompatible.\r\n",
      "gcsfs 2022.5.0 requires fsspec==2022.5.0, but you have fsspec 2022.8.2 which is incompatible.\r\n",
      "apache-beam 2.40.0 requires dill<0.3.2,>=0.3.1.1, but you have dill 0.3.5.1 which is incompatible.\r\n",
      "apache-beam 2.40.0 requires pyarrow<8.0.0,>=0.15.1, but you have pyarrow 8.0.0 which is incompatible.\r\n",
      "allennlp 2.10.0 requires protobuf==3.20.0, but you have protobuf 3.19.4 which is incompatible.\u001b[0m\u001b[31m\r\n",
      "\u001b[0mSuccessfully installed multitasking-0.0.11 peewee-3.17.8 pytz-2024.2 requests-2.31.0 yfinance-0.2.51\r\n",
      "\u001b[33mWARNING: Running pip as the 'root' user can result in broken permissions and conflicting behaviour with the system package manager. It is recommended to use a virtual environment instead: https://pip.pypa.io/warnings/venv\u001b[0m\u001b[33m\r\n",
      "\u001b[0mNote: you may need to restart the kernel to use updated packages.\n"
     ]
    }
   ],
   "source": [
    "pip install yfinance\n"
   ]
  },
  {
   "cell_type": "code",
   "execution_count": 3,
   "id": "f16fcd00",
   "metadata": {
    "execution": {
     "iopub.execute_input": "2025-01-08T08:33:09.661896Z",
     "iopub.status.busy": "2025-01-08T08:33:09.661437Z",
     "iopub.status.idle": "2025-01-08T08:33:10.733915Z",
     "shell.execute_reply": "2025-01-08T08:33:10.732618Z"
    },
    "papermill": {
     "duration": 1.086599,
     "end_time": "2025-01-08T08:33:10.737352",
     "exception": false,
     "start_time": "2025-01-08T08:33:09.650753",
     "status": "completed"
    },
    "tags": []
   },
   "outputs": [
    {
     "name": "stderr",
     "output_type": "stream",
     "text": [
      "[*********************100%***********************]  4 of 4 completed"
     ]
    },
    {
     "name": "stdout",
     "output_type": "stream",
     "text": [
      "Price            Close                                           High  \\\n",
      "Ticker            AMZN        META        MSFT       TSLA        AMZN   \n",
      "Date                                                                    \n",
      "2019-07-19   98.225998  197.605164  130.059448  17.212000   99.800003   \n",
      "2019-07-22   99.281502  201.550079  131.782547  17.045334   99.449997   \n",
      "2019-07-23   99.724503  201.589951  132.601257  17.344667   99.889503   \n",
      "2019-07-24  100.040497  203.881195  133.962585  17.658667  100.065002   \n",
      "2019-07-25   98.691002  199.946228  133.458038  15.254667  100.059998   \n",
      "...                ...         ...         ...        ...         ...   \n",
      "2019-12-03   88.498001  198.063416  143.098694  22.413334   88.643501   \n",
      "2019-12-04   88.034500  197.953827  143.616211  22.202000   89.454498   \n",
      "2019-12-05   87.024002  198.601364  143.692886  22.024668   88.175003   \n",
      "2019-12-06   87.580002  200.284912  145.437241  22.392668   87.720001   \n",
      "2019-12-09   87.475502  200.573807  145.063416  22.635332   88.344498   \n",
      "\n",
      "Price                                                Low              \\\n",
      "Ticker            META        MSFT       TSLA       AMZN        META   \n",
      "Date                                                                   \n",
      "2019-07-19  201.560057  133.914969  17.330667  98.111504  197.316274   \n",
      "2019-07-22  201.799128  132.506061  17.476667  97.913002  198.053427   \n",
      "2019-07-23  203.462801  133.267655  17.365334  98.656502  200.195284   \n",
      "2019-07-24  204.030618  133.981629  17.738001  98.293503  196.469505   \n",
      "2019-07-25  207.865972  133.857868  15.633333  98.636002  197.505539   \n",
      "...                ...         ...        ...        ...         ...   \n",
      "2019-12-03  198.172982  143.213697  22.527332  87.361504  194.337642   \n",
      "2019-12-04  199.268796  143.932470  22.524000  88.011002  197.296335   \n",
      "2019-12-05  200.524012  144.066676  22.294666  87.000000  197.455746   \n",
      "2019-12-06  200.802938  145.552244  22.590668  87.006500  199.298674   \n",
      "2019-12-09  202.366960  145.878061  22.963333  87.280502  199.448117   \n",
      "\n",
      "Price                                    Open                          \\\n",
      "Ticker            MSFT       TSLA        AMZN        META        MSFT   \n",
      "Date                                                                    \n",
      "2019-07-19  129.897613  16.974667   99.560501  201.410619  133.486581   \n",
      "2019-07-22  130.735378  16.945999   98.556999  199.149247  130.811538   \n",
      "2019-07-23  131.401768  16.966667   99.799500  202.068120  133.048689   \n",
      "2019-07-24  132.182388  17.210667   98.464996  196.877948  132.229975   \n",
      "2019-07-25  132.629821  15.036667  100.050003  205.913424  133.686504   \n",
      "...                ...        ...         ...         ...         ...   \n",
      "2019-12-03  140.549346  22.146000   88.000000  196.848057  141.354414   \n",
      "2019-12-04  142.993242  22.190001   88.700500  199.238911  143.894140   \n",
      "2019-12-05  143.261609  21.816668   88.175003  199.099461  143.807904   \n",
      "2019-12-06  144.018812  22.318001   87.559998  199.737002  144.708862   \n",
      "2019-12-09  144.632138  22.338667   87.532997  199.886430  144.785486   \n",
      "\n",
      "Price                    Volume                                 \n",
      "Ticker           TSLA      AMZN      META      MSFT       TSLA  \n",
      "Date                                                            \n",
      "2019-07-19  17.046000  63712000  12098300  48992400  105726000  \n",
      "2019-07-22  17.250000  58000000  13589000  25074900  102636000  \n",
      "2019-07-23  17.114000  54070000  14583700  18034600   75346500  \n",
      "2019-07-24  17.278000  52626000  32532500  20738300  166092000  \n",
      "2019-07-25  15.566667  82730000  39889900  18356900  336274500  \n",
      "...               ...       ...       ...       ...        ...  \n",
      "2019-12-03  22.174667  67618000  11595300  24066000   98605500  \n",
      "2019-12-04  22.516666  53402000   8456300  17574700   82995000  \n",
      "2019-12-05  22.188667  56476000   9740400  17869100   55869000  \n",
      "2019-12-06  22.333332  62348000  12270600  16403500  114186000  \n",
      "2019-12-09  22.439333  48856000  11954800  16687400  135346500  \n",
      "\n",
      "[100 rows x 20 columns]\n"
     ]
    },
    {
     "name": "stderr",
     "output_type": "stream",
     "text": [
      "\n"
     ]
    }
   ],
   "source": [
    "import yfinance as yf\n",
    "import pandas as pd\n",
    "from datetime import datetime as dt, timedelta as td\n",
    "\n",
    "# Set the start and end dates\n",
    "end = dt.today()\n",
    "start = end - td(days=2000)\n",
    "\n",
    "# List of stock symbols\n",
    "stocks = ['AMZN', 'TSLA', 'META', 'MSFT']\n",
    "\n",
    "# Fetch data using yfinance\n",
    "df = yf.download(stocks, start=start, end=end)\n",
    "\n",
    "# Display the first few rows of the dataframe\n",
    "print(df.head(100))\n"
   ]
  },
  {
   "cell_type": "code",
   "execution_count": null,
   "id": "46d07d65",
   "metadata": {
    "execution": {
     "iopub.execute_input": "2025-01-08T04:29:05.167462Z",
     "iopub.status.busy": "2025-01-08T04:29:05.166997Z",
     "iopub.status.idle": "2025-01-08T04:29:41.800586Z",
     "shell.execute_reply": "2025-01-08T04:29:41.799411Z",
     "shell.execute_reply.started": "2025-01-08T04:29:05.167418Z"
    },
    "papermill": {
     "duration": 0.009221,
     "end_time": "2025-01-08T08:33:10.757355",
     "exception": false,
     "start_time": "2025-01-08T08:33:10.748134",
     "status": "completed"
    },
    "tags": []
   },
   "outputs": [],
   "source": []
  },
  {
   "cell_type": "code",
   "execution_count": 4,
   "id": "934475c1",
   "metadata": {
    "execution": {
     "iopub.execute_input": "2025-01-08T08:33:10.777814Z",
     "iopub.status.busy": "2025-01-08T08:33:10.777113Z",
     "iopub.status.idle": "2025-01-08T08:33:12.390814Z",
     "shell.execute_reply": "2025-01-08T08:33:12.389064Z"
    },
    "papermill": {
     "duration": 1.626577,
     "end_time": "2025-01-08T08:33:12.393119",
     "exception": true,
     "start_time": "2025-01-08T08:33:10.766542",
     "status": "failed"
    },
    "tags": []
   },
   "outputs": [
    {
     "ename": "AttributeError",
     "evalue": "'NoneType' object has no attribute 'group'",
     "output_type": "error",
     "traceback": [
      "\u001b[0;31m---------------------------------------------------------------------------\u001b[0m",
      "\u001b[0;31mAttributeError\u001b[0m                            Traceback (most recent call last)",
      "\u001b[0;32m/tmp/ipykernel_19/3053520153.py\u001b[0m in \u001b[0;36m<module>\u001b[0;34m\u001b[0m\n\u001b[1;32m      2\u001b[0m \u001b[0mstart\u001b[0m \u001b[0;34m=\u001b[0m \u001b[0mend\u001b[0m \u001b[0;34m-\u001b[0m \u001b[0mtd\u001b[0m\u001b[0;34m(\u001b[0m\u001b[0mdays\u001b[0m\u001b[0;34m=\u001b[0m\u001b[0;36m2000\u001b[0m\u001b[0;34m)\u001b[0m\u001b[0;34m\u001b[0m\u001b[0;34m\u001b[0m\u001b[0m\n\u001b[1;32m      3\u001b[0m \u001b[0mstocks\u001b[0m \u001b[0;34m=\u001b[0m \u001b[0;34m'AMZN TSLA META MSFT'\u001b[0m\u001b[0;34m.\u001b[0m\u001b[0msplit\u001b[0m\u001b[0;34m(\u001b[0m\u001b[0;34m)\u001b[0m\u001b[0;34m\u001b[0m\u001b[0;34m\u001b[0m\u001b[0m\n\u001b[0;32m----> 4\u001b[0;31m \u001b[0mdf\u001b[0m \u001b[0;34m=\u001b[0m \u001b[0mweb\u001b[0m\u001b[0;34m.\u001b[0m\u001b[0mget_data_yahoo\u001b[0m\u001b[0;34m(\u001b[0m\u001b[0mstocks\u001b[0m\u001b[0;34m,\u001b[0m \u001b[0mstart\u001b[0m\u001b[0;34m,\u001b[0m \u001b[0mend\u001b[0m\u001b[0;34m)\u001b[0m\u001b[0;34m\u001b[0m\u001b[0;34m\u001b[0m\u001b[0m\n\u001b[0m",
      "\u001b[0;32m/opt/conda/lib/python3.7/site-packages/pandas_datareader/data.py\u001b[0m in \u001b[0;36mget_data_yahoo\u001b[0;34m(*args, **kwargs)\u001b[0m\n\u001b[1;32m     78\u001b[0m \u001b[0;34m\u001b[0m\u001b[0m\n\u001b[1;32m     79\u001b[0m \u001b[0;32mdef\u001b[0m \u001b[0mget_data_yahoo\u001b[0m\u001b[0;34m(\u001b[0m\u001b[0;34m*\u001b[0m\u001b[0margs\u001b[0m\u001b[0;34m,\u001b[0m \u001b[0;34m**\u001b[0m\u001b[0mkwargs\u001b[0m\u001b[0;34m)\u001b[0m\u001b[0;34m:\u001b[0m\u001b[0;34m\u001b[0m\u001b[0;34m\u001b[0m\u001b[0m\n\u001b[0;32m---> 80\u001b[0;31m     \u001b[0;32mreturn\u001b[0m \u001b[0mYahooDailyReader\u001b[0m\u001b[0;34m(\u001b[0m\u001b[0;34m*\u001b[0m\u001b[0margs\u001b[0m\u001b[0;34m,\u001b[0m \u001b[0;34m**\u001b[0m\u001b[0mkwargs\u001b[0m\u001b[0;34m)\u001b[0m\u001b[0;34m.\u001b[0m\u001b[0mread\u001b[0m\u001b[0;34m(\u001b[0m\u001b[0;34m)\u001b[0m\u001b[0;34m\u001b[0m\u001b[0;34m\u001b[0m\u001b[0m\n\u001b[0m\u001b[1;32m     81\u001b[0m \u001b[0;34m\u001b[0m\u001b[0m\n\u001b[1;32m     82\u001b[0m \u001b[0;34m\u001b[0m\u001b[0m\n",
      "\u001b[0;32m/opt/conda/lib/python3.7/site-packages/pandas_datareader/base.py\u001b[0m in \u001b[0;36mread\u001b[0;34m(self)\u001b[0m\n\u001b[1;32m    256\u001b[0m             \u001b[0mdf\u001b[0m \u001b[0;34m=\u001b[0m \u001b[0mself\u001b[0m\u001b[0;34m.\u001b[0m\u001b[0m_dl_mult_symbols\u001b[0m\u001b[0;34m(\u001b[0m\u001b[0mself\u001b[0m\u001b[0;34m.\u001b[0m\u001b[0msymbols\u001b[0m\u001b[0;34m.\u001b[0m\u001b[0mindex\u001b[0m\u001b[0;34m)\u001b[0m\u001b[0;34m\u001b[0m\u001b[0;34m\u001b[0m\u001b[0m\n\u001b[1;32m    257\u001b[0m         \u001b[0;32melse\u001b[0m\u001b[0;34m:\u001b[0m\u001b[0;34m\u001b[0m\u001b[0;34m\u001b[0m\u001b[0m\n\u001b[0;32m--> 258\u001b[0;31m             \u001b[0mdf\u001b[0m \u001b[0;34m=\u001b[0m \u001b[0mself\u001b[0m\u001b[0;34m.\u001b[0m\u001b[0m_dl_mult_symbols\u001b[0m\u001b[0;34m(\u001b[0m\u001b[0mself\u001b[0m\u001b[0;34m.\u001b[0m\u001b[0msymbols\u001b[0m\u001b[0;34m)\u001b[0m\u001b[0;34m\u001b[0m\u001b[0;34m\u001b[0m\u001b[0m\n\u001b[0m\u001b[1;32m    259\u001b[0m         \u001b[0;32mreturn\u001b[0m \u001b[0mdf\u001b[0m\u001b[0;34m\u001b[0m\u001b[0;34m\u001b[0m\u001b[0m\n\u001b[1;32m    260\u001b[0m \u001b[0;34m\u001b[0m\u001b[0m\n",
      "\u001b[0;32m/opt/conda/lib/python3.7/site-packages/pandas_datareader/base.py\u001b[0m in \u001b[0;36m_dl_mult_symbols\u001b[0;34m(self, symbols)\u001b[0m\n\u001b[1;32m    266\u001b[0m             \u001b[0;32mfor\u001b[0m \u001b[0msym\u001b[0m \u001b[0;32min\u001b[0m \u001b[0msym_group\u001b[0m\u001b[0;34m:\u001b[0m\u001b[0;34m\u001b[0m\u001b[0;34m\u001b[0m\u001b[0m\n\u001b[1;32m    267\u001b[0m                 \u001b[0;32mtry\u001b[0m\u001b[0;34m:\u001b[0m\u001b[0;34m\u001b[0m\u001b[0;34m\u001b[0m\u001b[0m\n\u001b[0;32m--> 268\u001b[0;31m                     \u001b[0mstocks\u001b[0m\u001b[0;34m[\u001b[0m\u001b[0msym\u001b[0m\u001b[0;34m]\u001b[0m \u001b[0;34m=\u001b[0m \u001b[0mself\u001b[0m\u001b[0;34m.\u001b[0m\u001b[0m_read_one_data\u001b[0m\u001b[0;34m(\u001b[0m\u001b[0mself\u001b[0m\u001b[0;34m.\u001b[0m\u001b[0murl\u001b[0m\u001b[0;34m,\u001b[0m \u001b[0mself\u001b[0m\u001b[0;34m.\u001b[0m\u001b[0m_get_params\u001b[0m\u001b[0;34m(\u001b[0m\u001b[0msym\u001b[0m\u001b[0;34m)\u001b[0m\u001b[0;34m)\u001b[0m\u001b[0;34m\u001b[0m\u001b[0;34m\u001b[0m\u001b[0m\n\u001b[0m\u001b[1;32m    269\u001b[0m                     \u001b[0mpassed\u001b[0m\u001b[0;34m.\u001b[0m\u001b[0mappend\u001b[0m\u001b[0;34m(\u001b[0m\u001b[0msym\u001b[0m\u001b[0;34m)\u001b[0m\u001b[0;34m\u001b[0m\u001b[0;34m\u001b[0m\u001b[0m\n\u001b[1;32m    270\u001b[0m                 \u001b[0;32mexcept\u001b[0m \u001b[0;34m(\u001b[0m\u001b[0mIOError\u001b[0m\u001b[0;34m,\u001b[0m \u001b[0mKeyError\u001b[0m\u001b[0;34m)\u001b[0m\u001b[0;34m:\u001b[0m\u001b[0;34m\u001b[0m\u001b[0;34m\u001b[0m\u001b[0m\n",
      "\u001b[0;32m/opt/conda/lib/python3.7/site-packages/pandas_datareader/yahoo/daily.py\u001b[0m in \u001b[0;36m_read_one_data\u001b[0;34m(self, url, params)\u001b[0m\n\u001b[1;32m    150\u001b[0m         \u001b[0mptrn\u001b[0m \u001b[0;34m=\u001b[0m \u001b[0;34mr\"root\\.App\\.main = (.*?);\\n}\\(this\\)\\);\"\u001b[0m\u001b[0;34m\u001b[0m\u001b[0;34m\u001b[0m\u001b[0m\n\u001b[1;32m    151\u001b[0m         \u001b[0;32mtry\u001b[0m\u001b[0;34m:\u001b[0m\u001b[0;34m\u001b[0m\u001b[0;34m\u001b[0m\u001b[0m\n\u001b[0;32m--> 152\u001b[0;31m             \u001b[0mj\u001b[0m \u001b[0;34m=\u001b[0m \u001b[0mjson\u001b[0m\u001b[0;34m.\u001b[0m\u001b[0mloads\u001b[0m\u001b[0;34m(\u001b[0m\u001b[0mre\u001b[0m\u001b[0;34m.\u001b[0m\u001b[0msearch\u001b[0m\u001b[0;34m(\u001b[0m\u001b[0mptrn\u001b[0m\u001b[0;34m,\u001b[0m \u001b[0mresp\u001b[0m\u001b[0;34m.\u001b[0m\u001b[0mtext\u001b[0m\u001b[0;34m,\u001b[0m \u001b[0mre\u001b[0m\u001b[0;34m.\u001b[0m\u001b[0mDOTALL\u001b[0m\u001b[0;34m)\u001b[0m\u001b[0;34m.\u001b[0m\u001b[0mgroup\u001b[0m\u001b[0;34m(\u001b[0m\u001b[0;36m1\u001b[0m\u001b[0;34m)\u001b[0m\u001b[0;34m)\u001b[0m\u001b[0;34m\u001b[0m\u001b[0;34m\u001b[0m\u001b[0m\n\u001b[0m\u001b[1;32m    153\u001b[0m             \u001b[0mdata\u001b[0m \u001b[0;34m=\u001b[0m \u001b[0mj\u001b[0m\u001b[0;34m[\u001b[0m\u001b[0;34m\"context\"\u001b[0m\u001b[0;34m]\u001b[0m\u001b[0;34m[\u001b[0m\u001b[0;34m\"dispatcher\"\u001b[0m\u001b[0;34m]\u001b[0m\u001b[0;34m[\u001b[0m\u001b[0;34m\"stores\"\u001b[0m\u001b[0;34m]\u001b[0m\u001b[0;34m[\u001b[0m\u001b[0;34m\"HistoricalPriceStore\"\u001b[0m\u001b[0;34m]\u001b[0m\u001b[0;34m\u001b[0m\u001b[0;34m\u001b[0m\u001b[0m\n\u001b[1;32m    154\u001b[0m         \u001b[0;32mexcept\u001b[0m \u001b[0mKeyError\u001b[0m\u001b[0;34m:\u001b[0m\u001b[0;34m\u001b[0m\u001b[0;34m\u001b[0m\u001b[0m\n",
      "\u001b[0;31mAttributeError\u001b[0m: 'NoneType' object has no attribute 'group'"
     ]
    }
   ],
   "source": [
    "end = dt.today()\n",
    "start = end - td(days=2000)\n",
    "stocks = 'AMZN TSLA META MSFT'.split()\n",
    "df = web.get_data_yahoo(stocks, start, end)"
   ]
  },
  {
   "cell_type": "code",
   "execution_count": null,
   "id": "059405d0",
   "metadata": {
    "execution": {
     "iopub.execute_input": "2025-01-08T08:10:49.212666Z",
     "iopub.status.busy": "2025-01-08T08:10:49.212271Z",
     "iopub.status.idle": "2025-01-08T08:10:49.219262Z",
     "shell.execute_reply": "2025-01-08T08:10:49.218176Z",
     "shell.execute_reply.started": "2025-01-08T08:10:49.212631Z"
    },
    "papermill": {
     "duration": null,
     "end_time": null,
     "exception": null,
     "start_time": null,
     "status": "pending"
    },
    "tags": []
   },
   "outputs": [],
   "source": [
    "# remove multilevel\n",
    "df.columns = ['_'.join(col) for col in df.columns]\n",
    "\n",
    "# Just study adj close \n",
    "df = df.iloc[:,:4]"
   ]
  },
  {
   "cell_type": "markdown",
   "id": "ba99421d",
   "metadata": {
    "papermill": {
     "duration": null,
     "end_time": null,
     "exception": null,
     "start_time": null,
     "status": "pending"
    },
    "tags": []
   },
   "source": [
    "In MPT, Close prices are the primary input because they represent the final consensus for a trading day and are essential for calculating returns."
   ]
  },
  {
   "cell_type": "code",
   "execution_count": null,
   "id": "ee877769",
   "metadata": {
    "execution": {
     "iopub.execute_input": "2025-01-08T08:11:03.926511Z",
     "iopub.status.busy": "2025-01-08T08:11:03.926048Z",
     "iopub.status.idle": "2025-01-08T08:11:03.950822Z",
     "shell.execute_reply": "2025-01-08T08:11:03.949362Z",
     "shell.execute_reply.started": "2025-01-08T08:11:03.926472Z"
    },
    "papermill": {
     "duration": null,
     "end_time": null,
     "exception": null,
     "start_time": null,
     "status": "pending"
    },
    "tags": []
   },
   "outputs": [],
   "source": [
    "df"
   ]
  },
  {
   "cell_type": "code",
   "execution_count": null,
   "id": "5f551cfd",
   "metadata": {
    "execution": {
     "iopub.execute_input": "2025-01-08T04:15:22.442753Z",
     "iopub.status.busy": "2025-01-08T04:15:22.442357Z",
     "iopub.status.idle": "2025-01-08T04:15:32.400661Z",
     "shell.execute_reply": "2025-01-08T04:15:32.399087Z",
     "shell.execute_reply.started": "2025-01-08T04:15:22.442720Z"
    },
    "papermill": {
     "duration": null,
     "end_time": null,
     "exception": null,
     "start_time": null,
     "status": "pending"
    },
    "tags": []
   },
   "outputs": [],
   "source": [
    "pip install plotly"
   ]
  },
  {
   "cell_type": "code",
   "execution_count": null,
   "id": "0742bab2",
   "metadata": {
    "execution": {
     "iopub.execute_input": "2025-01-08T08:14:35.196329Z",
     "iopub.status.busy": "2025-01-08T08:14:35.195893Z",
     "iopub.status.idle": "2025-01-08T08:14:35.213819Z",
     "shell.execute_reply": "2025-01-08T08:14:35.212508Z",
     "shell.execute_reply.started": "2025-01-08T08:14:35.196292Z"
    },
    "papermill": {
     "duration": null,
     "end_time": null,
     "exception": null,
     "start_time": null,
     "status": "pending"
    },
    "tags": []
   },
   "outputs": [],
   "source": [
    "df"
   ]
  },
  {
   "cell_type": "code",
   "execution_count": null,
   "id": "58c00c08",
   "metadata": {
    "execution": {
     "iopub.execute_input": "2025-01-08T08:15:56.603264Z",
     "iopub.status.busy": "2025-01-08T08:15:56.602200Z",
     "iopub.status.idle": "2025-01-08T08:15:56.914972Z",
     "shell.execute_reply": "2025-01-08T08:15:56.913691Z",
     "shell.execute_reply.started": "2025-01-08T08:15:56.603214Z"
    },
    "papermill": {
     "duration": null,
     "end_time": null,
     "exception": null,
     "start_time": null,
     "status": "pending"
    },
    "tags": []
   },
   "outputs": [],
   "source": [
    "import matplotlib.pyplot as plt\n",
    "\n",
    "# Normalize the data by dividing each stock price by its value on the first day\n",
    "normalized_df = df * 100 / df.iloc[0]\n",
    "\n",
    "# Plot the data\n",
    "plt.figure(figsize=(10,6))\n",
    "for column in normalized_df.columns:\n",
    "    plt.plot(normalized_df.index, normalized_df[column], label=column)\n",
    "\n",
    "plt.title(\"Normalized Stock Prices (Starting from 100)\")\n",
    "plt.xlabel(\"Date\")\n",
    "plt.ylabel(\"Normalized Price (%)\")\n",
    "plt.legend()\n",
    "plt.grid(True)\n",
    "plt.show()\n"
   ]
  },
  {
   "cell_type": "markdown",
   "id": "ba5caf44",
   "metadata": {
    "papermill": {
     "duration": null,
     "end_time": null,
     "exception": null,
     "start_time": null,
     "status": "pending"
    },
    "tags": []
   },
   "source": []
  },
  {
   "cell_type": "markdown",
   "id": "9288d2a5",
   "metadata": {
    "papermill": {
     "duration": null,
     "end_time": null,
     "exception": null,
     "start_time": null,
     "status": "pending"
    },
    "tags": []
   },
   "source": [
    "TESLA DOING VOLATILE"
   ]
  },
  {
   "cell_type": "code",
   "execution_count": null,
   "id": "74f32566",
   "metadata": {
    "execution": {
     "iopub.execute_input": "2025-01-08T04:12:13.681416Z",
     "iopub.status.busy": "2025-01-08T04:12:13.680991Z",
     "iopub.status.idle": "2025-01-08T04:12:15.028972Z",
     "shell.execute_reply": "2025-01-08T04:12:15.027778Z",
     "shell.execute_reply.started": "2025-01-08T04:12:13.681381Z"
    },
    "papermill": {
     "duration": null,
     "end_time": null,
     "exception": null,
     "start_time": null,
     "status": "pending"
    },
    "tags": []
   },
   "outputs": [],
   "source": [
    "#px.line(df * 100 / df.iloc[0])"
   ]
  },
  {
   "cell_type": "code",
   "execution_count": null,
   "id": "821e169a",
   "metadata": {
    "execution": {
     "iopub.execute_input": "2025-01-08T08:17:43.246538Z",
     "iopub.status.busy": "2025-01-08T08:17:43.246048Z",
     "iopub.status.idle": "2025-01-08T08:17:43.427387Z",
     "shell.execute_reply": "2025-01-08T08:17:43.426150Z",
     "shell.execute_reply.started": "2025-01-08T08:17:43.246485Z"
    },
    "papermill": {
     "duration": null,
     "end_time": null,
     "exception": null,
     "start_time": null,
     "status": "pending"
    },
    "tags": []
   },
   "outputs": [],
   "source": [
    "ret_port = df.pct_change()\n",
    "px.line(ret_port)"
   ]
  },
  {
   "cell_type": "markdown",
   "id": "455a9fa8",
   "metadata": {
    "papermill": {
     "duration": null,
     "end_time": null,
     "exception": null,
     "start_time": null,
     "status": "pending"
    },
    "tags": []
   },
   "source": [
    "Looks like TSLA is having a jumpy ride, as you might have thought :)"
   ]
  },
  {
   "cell_type": "code",
   "execution_count": null,
   "id": "85d01e81",
   "metadata": {
    "execution": {
     "iopub.execute_input": "2025-01-08T08:22:39.455398Z",
     "iopub.status.busy": "2025-01-08T08:22:39.454251Z",
     "iopub.status.idle": "2025-01-08T08:22:39.471735Z",
     "shell.execute_reply": "2025-01-08T08:22:39.470232Z",
     "shell.execute_reply.started": "2025-01-08T08:22:39.455341Z"
    },
    "papermill": {
     "duration": null,
     "end_time": null,
     "exception": null,
     "start_time": null,
     "status": "pending"
    },
    "tags": []
   },
   "outputs": [],
   "source": [
    "np.random.seed(1)\n",
    "# Weight each security\n",
    "weights = np.random.random((4,1))\n",
    "# normalize it, so that some is one\n",
    "weights /= np.sum(weights)\n",
    "print(f'Normalized Weights : {weights.flatten()}')\n",
    "\n",
    "# We generally do log return instead of return\n",
    "log_ret = np.log(df / df.shift(1))\n",
    "log_ret\n",
    "\n",
    "# Expected return (weighted sum of mean returns). Mult by 252 as we always do annual calculation and year has 252 business days\n",
    "exp_ret = log_ret.mean().dot(weights)*252 \n",
    "print(f'\\nExpected return of the portfolio is % : {(exp_ret[0])*100}')\n",
    "\n",
    "# Exp Volatility (Risk)\n",
    "exp_vol = np.sqrt(weights.T.dot(252*log_ret.cov().dot(weights)))\n",
    "print(f'\\nVolatility of the portfolio %: {(exp_vol[0][0])*100}')\n",
    "\n",
    "# Sharpe ratio\n",
    "sr = exp_ret / exp_vol\n",
    "print(f'\\nSharpe ratio of the portfolio: {sr[0][0]}')"
   ]
  },
  {
   "cell_type": "markdown",
   "id": "daf6c63b",
   "metadata": {
    "papermill": {
     "duration": null,
     "end_time": null,
     "exception": null,
     "start_time": null,
     "status": "pending"
    },
    "tags": []
   },
   "source": [
    "# Monte Carlo Simulation\n",
    "\n",
    "We basically randomly initialize weights of the securities and check the returns vs risks. And among these set of weights we will find the one, for given risk, which gives the maximum return. However, one can do all this solving optimization problem, using SciPy. "
   ]
  },
  {
   "cell_type": "code",
   "execution_count": null,
   "id": "614a7dea",
   "metadata": {
    "execution": {
     "iopub.execute_input": "2025-01-08T08:24:13.857588Z",
     "iopub.status.busy": "2025-01-08T08:24:13.857140Z",
     "iopub.status.idle": "2025-01-08T08:25:06.485171Z",
     "shell.execute_reply": "2025-01-08T08:25:06.484048Z",
     "shell.execute_reply.started": "2025-01-08T08:24:13.857550Z"
    },
    "papermill": {
     "duration": null,
     "end_time": null,
     "exception": null,
     "start_time": null,
     "status": "pending"
    },
    "tags": []
   },
   "outputs": [],
   "source": [
    "# number of simulation\n",
    "n = 50_000\n",
    "# n = 10\n",
    "\n",
    "port_weights = np.zeros(shape=(n,len(df.columns)))\n",
    "port_volatility = np.zeros(n)\n",
    "port_sr = np.zeros(n)\n",
    "port_return = np.zeros(n)\n",
    "\n",
    "num_securities = len(df.columns)\n",
    "# num_securities\n",
    "for i in range(n):\n",
    "    # Weight each security\n",
    "    weights = np.random.random(4)\n",
    "    # normalize it, so that some is one\n",
    "    weights /= np.sum(weights)\n",
    "    port_weights[i,:] = weights \n",
    "    #     print(f'Normalized Weights : {weights.flatten()}')\n",
    "\n",
    "    # Expected return (weighted sum of mean returns). Mult by 252 as we always do annual calculation and year has 252 business days\n",
    "    exp_ret = log_ret.mean().dot(weights)*252 \n",
    "    port_return[i] = exp_ret\n",
    "#     print(f'\\nExpected return is : {exp_ret[0]}')\n",
    "\n",
    "    # Exp Volatility (Risk)\n",
    "    exp_vol = np.sqrt(weights.T.dot(252*log_ret.cov().dot(weights)))\n",
    "    port_volatility[i] = exp_vol\n",
    "#     print(f'\\nVolatility : {exp_vol[0][0]}')\n",
    "\n",
    "    # Sharpe ratio\n",
    "    sr = exp_ret / exp_vol\n",
    "    port_sr[i] = sr\n",
    "#     print(f'\\nSharpe ratio : {sr[0][0]}')"
   ]
  },
  {
   "cell_type": "code",
   "execution_count": null,
   "id": "89a7d0cc",
   "metadata": {
    "execution": {
     "iopub.execute_input": "2025-01-08T08:26:57.395425Z",
     "iopub.status.busy": "2025-01-08T08:26:57.394627Z",
     "iopub.status.idle": "2025-01-08T08:26:57.401405Z",
     "shell.execute_reply": "2025-01-08T08:26:57.400022Z",
     "shell.execute_reply.started": "2025-01-08T08:26:57.395384Z"
    },
    "papermill": {
     "duration": null,
     "end_time": null,
     "exception": null,
     "start_time": null,
     "status": "pending"
    },
    "tags": []
   },
   "outputs": [],
   "source": [
    "# Index of max Sharpe Ratio\n",
    "max_sr = port_sr.max()\n",
    "ind = port_sr.argmax()\n",
    "# Return and Volatility at Max SR\n",
    "max_sr_ret = port_return[ind]\n",
    "max_sr_vol = port_volatility[ind]\n"
   ]
  },
  {
   "cell_type": "code",
   "execution_count": null,
   "id": "8eafc6c9",
   "metadata": {
    "execution": {
     "iopub.execute_input": "2025-01-08T08:27:00.561220Z",
     "iopub.status.busy": "2025-01-08T08:27:00.560792Z",
     "iopub.status.idle": "2025-01-08T08:27:03.037283Z",
     "shell.execute_reply": "2025-01-08T08:27:03.036044Z",
     "shell.execute_reply.started": "2025-01-08T08:27:00.561180Z"
    },
    "papermill": {
     "duration": null,
     "end_time": null,
     "exception": null,
     "start_time": null,
     "status": "pending"
    },
    "tags": []
   },
   "outputs": [],
   "source": [
    "plt.figure(figsize=(20,15))\n",
    "plt.scatter(port_volatility,port_return,c=port_sr, cmap='plasma')\n",
    "plt.colorbar(label='Sharpe Ratio')\n",
    "plt.xlabel('Volatility', fontsize=15)\n",
    "plt.ylabel('Return', fontsize=15)\n",
    "plt.title('Efficient Frontier (Bullet Plot)', fontsize=15)\n",
    "plt.scatter(max_sr_vol, max_sr_ret, c='blue', s=150, edgecolors='red', marker='o', label='Max \\\n",
    "Sharpe ratio Portfolio')\n",
    "plt.legend();"
   ]
  },
  {
   "cell_type": "code",
   "execution_count": null,
   "id": "10100bc0",
   "metadata": {
    "execution": {
     "iopub.execute_input": "2025-01-08T08:27:30.701528Z",
     "iopub.status.busy": "2025-01-08T08:27:30.700516Z",
     "iopub.status.idle": "2025-01-08T08:27:30.709012Z",
     "shell.execute_reply": "2025-01-08T08:27:30.707701Z",
     "shell.execute_reply.started": "2025-01-08T08:27:30.701472Z"
    },
    "papermill": {
     "duration": null,
     "end_time": null,
     "exception": null,
     "start_time": null,
     "status": "pending"
    },
    "tags": []
   },
   "outputs": [],
   "source": [
    "for weight, stock in zip(port_weights[ind],stocks):\n",
    "    print(f'{round(weight * 100, 2)} % of {stock} should be bought.')\n",
    "    \n",
    "# best portfolio return\n",
    "print(f'\\nMarkowitz optimal portfolio return is : {round(max_sr_ret * 100, 2)}% with volatility \\\n",
    "{max_sr_vol}')"
   ]
  },
  {
   "cell_type": "markdown",
   "id": "92296d6a",
   "metadata": {
    "papermill": {
     "duration": null,
     "end_time": null,
     "exception": null,
     "start_time": null,
     "status": "pending"
    },
    "tags": []
   },
   "source": [
    "All we did above can be done using optimization, which we do next.\n",
    "\n",
    "# SciPy to get the max of Sharpe Ration"
   ]
  },
  {
   "cell_type": "code",
   "execution_count": null,
   "id": "a80c443e",
   "metadata": {
    "execution": {
     "iopub.execute_input": "2025-01-08T08:27:39.206727Z",
     "iopub.status.busy": "2025-01-08T08:27:39.206278Z",
     "iopub.status.idle": "2025-01-08T08:27:39.281646Z",
     "shell.execute_reply": "2025-01-08T08:27:39.280352Z",
     "shell.execute_reply.started": "2025-01-08T08:27:39.206690Z"
    },
    "papermill": {
     "duration": null,
     "end_time": null,
     "exception": null,
     "start_time": null,
     "status": "pending"
    },
    "tags": []
   },
   "outputs": [],
   "source": [
    "from scipy import optimize"
   ]
  },
  {
   "cell_type": "code",
   "execution_count": null,
   "id": "20f4232d",
   "metadata": {
    "execution": {
     "iopub.execute_input": "2025-01-08T08:27:41.875509Z",
     "iopub.status.busy": "2025-01-08T08:27:41.874974Z",
     "iopub.status.idle": "2025-01-08T08:27:41.885052Z",
     "shell.execute_reply": "2025-01-08T08:27:41.883718Z",
     "shell.execute_reply.started": "2025-01-08T08:27:41.875462Z"
    },
    "papermill": {
     "duration": null,
     "end_time": null,
     "exception": null,
     "start_time": null,
     "status": "pending"
    },
    "tags": []
   },
   "outputs": [],
   "source": [
    "log_mean = log_ret.mean() * 252\n",
    "cov = log_ret.cov() * 252"
   ]
  },
  {
   "cell_type": "code",
   "execution_count": null,
   "id": "65f38651",
   "metadata": {
    "execution": {
     "iopub.execute_input": "2025-01-08T08:27:46.952898Z",
     "iopub.status.busy": "2025-01-08T08:27:46.952448Z",
     "iopub.status.idle": "2025-01-08T08:27:46.973629Z",
     "shell.execute_reply": "2025-01-08T08:27:46.972499Z",
     "shell.execute_reply.started": "2025-01-08T08:27:46.952860Z"
    },
    "papermill": {
     "duration": null,
     "end_time": null,
     "exception": null,
     "start_time": null,
     "status": "pending"
    },
    "tags": []
   },
   "outputs": [],
   "source": [
    "# Some helper functions\n",
    "def get_ret_vol_sr(weights):\n",
    "    weights = np.array(weights)\n",
    "    ret = log_mean.dot(weights)\n",
    "    vol = np.sqrt(weights.T.dot(cov.dot(weights)))\n",
    "    sr = ret / vol\n",
    "    return np.array([ret, vol, sr])\n",
    "\n",
    "# Negate Sharpe ratio as we need to max it but Scipy minimize the given function\n",
    "def neg_sr(weights):\n",
    "    return get_ret_vol_sr(weights)[-1] * -1\n",
    "\n",
    "# check sum of weights \n",
    "def check_sum(weights):\n",
    "    return np.sum(weights) - 1\n",
    "\n",
    "# Constraints for the optimization problem\n",
    "cons = {'type':'eq','fun':check_sum}\n",
    "# bounds on weights\n",
    "bounds = ((0,1),(0,1),(0,1),(0,1))\n",
    "# initial guess for optimization to start with\n",
    "init_guess = [.25 for _ in range(4)]\n",
    "\n",
    "\n",
    "# Call minimizer\n",
    "opt_results = optimize.minimize(neg_sr, init_guess, constraints=cons, bounds=bounds, method='SLSQP')\n"
   ]
  },
  {
   "cell_type": "code",
   "execution_count": null,
   "id": "4af3259b",
   "metadata": {
    "execution": {
     "iopub.execute_input": "2025-01-08T08:27:53.884184Z",
     "iopub.status.busy": "2025-01-08T08:27:53.883711Z",
     "iopub.status.idle": "2025-01-08T08:27:53.890483Z",
     "shell.execute_reply": "2025-01-08T08:27:53.889225Z",
     "shell.execute_reply.started": "2025-01-08T08:27:53.884126Z"
    },
    "papermill": {
     "duration": null,
     "end_time": null,
     "exception": null,
     "start_time": null,
     "status": "pending"
    },
    "tags": []
   },
   "outputs": [],
   "source": [
    "optimal_weights = opt_results.x\n",
    "# optimal_weights\n",
    "for st, i in zip(stocks,optimal_weights):\n",
    "    print(f'Stock {st} has weight {np.round(i*100,2)} %')"
   ]
  },
  {
   "cell_type": "code",
   "execution_count": null,
   "id": "73d81f32",
   "metadata": {
    "execution": {
     "iopub.execute_input": "2025-01-08T08:27:55.828594Z",
     "iopub.status.busy": "2025-01-08T08:27:55.828186Z",
     "iopub.status.idle": "2025-01-08T08:27:55.835376Z",
     "shell.execute_reply": "2025-01-08T08:27:55.833932Z",
     "shell.execute_reply.started": "2025-01-08T08:27:55.828557Z"
    },
    "papermill": {
     "duration": null,
     "end_time": null,
     "exception": null,
     "start_time": null,
     "status": "pending"
    },
    "tags": []
   },
   "outputs": [],
   "source": [
    "mc_weights = port_weights[ind]\n",
    "for st, i in zip(stocks,mc_weights):\n",
    "    print(f'Stock {st} has weight {np.round(i*100,2)} %')"
   ]
  },
  {
   "cell_type": "code",
   "execution_count": null,
   "id": "2d3aee65",
   "metadata": {
    "execution": {
     "iopub.execute_input": "2025-01-08T08:28:00.227223Z",
     "iopub.status.busy": "2025-01-08T08:28:00.226830Z",
     "iopub.status.idle": "2025-01-08T08:28:00.235293Z",
     "shell.execute_reply": "2025-01-08T08:28:00.233983Z",
     "shell.execute_reply.started": "2025-01-08T08:28:00.227188Z"
    },
    "papermill": {
     "duration": null,
     "end_time": null,
     "exception": null,
     "start_time": null,
     "status": "pending"
    },
    "tags": []
   },
   "outputs": [],
   "source": [
    "# Comparing two results we see that we get very close results\n",
    "(optimal_weights - mc_weights)"
   ]
  },
  {
   "cell_type": "code",
   "execution_count": null,
   "id": "4525e91d",
   "metadata": {
    "execution": {
     "iopub.execute_input": "2025-01-08T08:28:02.554737Z",
     "iopub.status.busy": "2025-01-08T08:28:02.554335Z",
     "iopub.status.idle": "2025-01-08T08:28:02.564392Z",
     "shell.execute_reply": "2025-01-08T08:28:02.563285Z",
     "shell.execute_reply.started": "2025-01-08T08:28:02.554702Z"
    },
    "papermill": {
     "duration": null,
     "end_time": null,
     "exception": null,
     "start_time": null,
     "status": "pending"
    },
    "tags": []
   },
   "outputs": [],
   "source": [
    "get_ret_vol_sr(optimal_weights), get_ret_vol_sr(mc_weights)\n",
    "\n",
    "print('For a given portfolio we have: (Using SciPy optimizer)\\n \\n')\n",
    "for i, j in enumerate('Return Volatility SharpeRatio'.split()):\n",
    "    print(f'{j} is : {get_ret_vol_sr(optimal_weights)[i]}\\n')\n",
    "    \n",
    "print('For a given portfolio we have: (Using Monte Carlo)\\n \\n')\n",
    "for i, j in enumerate('Return Volatility SharpeRatio'.split()):\n",
    "    print(f'{j} is : {get_ret_vol_sr(mc_weights)[i]}\\n')"
   ]
  },
  {
   "cell_type": "markdown",
   "id": "aff43715",
   "metadata": {
    "papermill": {
     "duration": null,
     "end_time": null,
     "exception": null,
     "start_time": null,
     "status": "pending"
    },
    "tags": []
   },
   "source": [
    "So MC and Optimizer gives very close results. MC is good, but if we have many assets, since MC computationally heavy, SciPy is going to be a saviour!!!"
   ]
  },
  {
   "cell_type": "markdown",
   "id": "bfc454c3",
   "metadata": {
    "papermill": {
     "duration": null,
     "end_time": null,
     "exception": null,
     "start_time": null,
     "status": "pending"
    },
    "tags": []
   },
   "source": [
    "# Frontier curve\n",
    "\n",
    "Best return for given volatility or vice versa."
   ]
  },
  {
   "cell_type": "code",
   "execution_count": null,
   "id": "e10d7991",
   "metadata": {
    "execution": {
     "iopub.execute_input": "2025-01-08T08:28:16.103723Z",
     "iopub.status.busy": "2025-01-08T08:28:16.103312Z",
     "iopub.status.idle": "2025-01-08T08:28:17.080717Z",
     "shell.execute_reply": "2025-01-08T08:28:17.079406Z",
     "shell.execute_reply.started": "2025-01-08T08:28:16.103688Z"
    },
    "papermill": {
     "duration": null,
     "end_time": null,
     "exception": null,
     "start_time": null,
     "status": "pending"
    },
    "tags": []
   },
   "outputs": [],
   "source": [
    "frontier_y = np.linspace(port_return.min(), port_return.max(), 100)\n",
    "frontier_vol = []\n",
    "\n",
    "def minimize_vol(weights):\n",
    "    return get_ret_vol_sr(weights)[1]\n",
    "\n",
    "for possible_ret in frontier_y:\n",
    "    cons = ({'type':'eq','fun':check_sum},\n",
    "            {'type':'eq','fun':lambda w:get_ret_vol_sr(w)[0] - possible_ret})\n",
    "    result = optimize.minimize(minimize_vol, init_guess, method='SLSQP', constraints=cons, bounds=bounds)\n",
    "    frontier_vol.append(result['fun'])    "
   ]
  },
  {
   "cell_type": "code",
   "execution_count": null,
   "id": "87a16fc0",
   "metadata": {
    "execution": {
     "iopub.execute_input": "2025-01-08T08:28:56.857076Z",
     "iopub.status.busy": "2025-01-08T08:28:56.856679Z",
     "iopub.status.idle": "2025-01-08T08:28:59.329656Z",
     "shell.execute_reply": "2025-01-08T08:28:59.328361Z",
     "shell.execute_reply.started": "2025-01-08T08:28:56.857036Z"
    },
    "papermill": {
     "duration": null,
     "end_time": null,
     "exception": null,
     "start_time": null,
     "status": "pending"
    },
    "tags": []
   },
   "outputs": [],
   "source": [
    "plt.figure(figsize=(20,15))\n",
    "plt.scatter(port_volatility,port_return,c=port_sr, cmap='plasma')\n",
    "plt.colorbar(label='Sharpe Ratio')\n",
    "plt.xlabel('Volatility', fontsize=15)\n",
    "plt.ylabel('Return', fontsize=15)\n",
    "plt.title('Efficient Frontier', fontsize=15)\n",
    "plt.scatter(max_sr_vol, max_sr_ret, c='blue', s=150, edgecolors='red', marker='o')\n",
    "\n",
    "plt.plot(frontier_vol, frontier_y, c='magenta', ls='--', lw=3, label='Efficient Frontier')\n",
    "plt.legend();"
   ]
  },
  {
   "cell_type": "markdown",
   "id": "3afab555",
   "metadata": {
    "papermill": {
     "duration": null,
     "end_time": null,
     "exception": null,
     "start_time": null,
     "status": "pending"
    },
    "tags": []
   },
   "source": [
    "It is common practice to choose the portfolio with max sharpe ratio. Thought one can always make a choice as per one's taste. Efficient frontier gives us max profit for given amount of risk. So anything below the given efficient frontier will be a bad choice (of course, we are assuming above the risk free rate).\n",
    "\n",
    "CAPM, Beta and Sharpe ratio are tools to evaluate the stocks too. One may see,\n",
    "https://www.kaggle.com/code/bhavinmoriya/beta-of-a-stock-capm-from-scratch"
   ]
  },
  {
   "cell_type": "code",
   "execution_count": null,
   "id": "6a6ef2c2",
   "metadata": {
    "papermill": {
     "duration": null,
     "end_time": null,
     "exception": null,
     "start_time": null,
     "status": "pending"
    },
    "tags": []
   },
   "outputs": [],
   "source": []
  }
 ],
 "metadata": {
  "kaggle": {
   "accelerator": "none",
   "dataSources": [],
   "dockerImageVersionId": 30301,
   "isGpuEnabled": false,
   "isInternetEnabled": true,
   "language": "python",
   "sourceType": "notebook"
  },
  "kernelspec": {
   "display_name": "Python 3",
   "language": "python",
   "name": "python3"
  },
  "language_info": {
   "codemirror_mode": {
    "name": "ipython",
    "version": 3
   },
   "file_extension": ".py",
   "mimetype": "text/x-python",
   "name": "python",
   "nbconvert_exporter": "python",
   "pygments_lexer": "ipython3",
   "version": "3.7.12"
  },
  "papermill": {
   "default_parameters": {},
   "duration": 43.876563,
   "end_time": "2025-01-08T08:33:13.326599",
   "environment_variables": {},
   "exception": true,
   "input_path": "__notebook__.ipynb",
   "output_path": "__notebook__.ipynb",
   "parameters": {},
   "start_time": "2025-01-08T08:32:29.450036",
   "version": "2.3.4"
  }
 },
 "nbformat": 4,
 "nbformat_minor": 5
}
